{
 "cells": [
  {
   "cell_type": "code",
   "execution_count": 5,
   "id": "f10daabf",
   "metadata": {},
   "outputs": [
    {
     "name": "stdout",
     "output_type": "stream",
     "text": [
      "Collecting tensorflow\n",
      "  Downloading tensorflow-2.8.0-cp39-cp39-win_amd64.whl (438.0 MB)\n",
      "Collecting google-pasta>=0.1.1\n",
      "  Downloading google_pasta-0.2.0-py3-none-any.whl (57 kB)\n",
      "Collecting tensorflow-io-gcs-filesystem>=0.23.1\n",
      "  Downloading tensorflow_io_gcs_filesystem-0.24.0-cp39-cp39-win_amd64.whl (1.5 MB)\n",
      "Requirement already satisfied: setuptools in c:\\users\\deeks\\anaconda3\\lib\\site-packages (from tensorflow) (58.0.4)\n",
      "Requirement already satisfied: wrapt>=1.11.0 in c:\\users\\deeks\\anaconda3\\lib\\site-packages (from tensorflow) (1.12.1)\n",
      "Requirement already satisfied: keras<2.9,>=2.8.0rc0 in c:\\users\\deeks\\anaconda3\\lib\\site-packages (from tensorflow) (2.8.0)\n",
      "Collecting tf-estimator-nightly==2.8.0.dev2021122109\n",
      "  Downloading tf_estimator_nightly-2.8.0.dev2021122109-py2.py3-none-any.whl (462 kB)\n",
      "Collecting protobuf>=3.9.2\n",
      "  Downloading protobuf-3.20.0-cp39-cp39-win_amd64.whl (904 kB)\n",
      "Collecting termcolor>=1.1.0\n",
      "  Downloading termcolor-1.1.0.tar.gz (3.9 kB)\n",
      "Requirement already satisfied: typing-extensions>=3.6.6 in c:\\users\\deeks\\anaconda3\\lib\\site-packages (from tensorflow) (3.10.0.2)\n",
      "Collecting gast>=0.2.1\n",
      "  Downloading gast-0.5.3-py3-none-any.whl (19 kB)\n",
      "Collecting tensorboard<2.9,>=2.8\n",
      "  Downloading tensorboard-2.8.0-py3-none-any.whl (5.8 MB)\n",
      "Collecting flatbuffers>=1.12\n",
      "  Downloading flatbuffers-2.0-py2.py3-none-any.whl (26 kB)\n",
      "Collecting opt-einsum>=2.3.2\n",
      "  Downloading opt_einsum-3.3.0-py3-none-any.whl (65 kB)\n",
      "Requirement already satisfied: six>=1.12.0 in c:\\users\\deeks\\anaconda3\\lib\\site-packages (from tensorflow) (1.16.0)\n",
      "Requirement already satisfied: h5py>=2.9.0 in c:\\users\\deeks\\anaconda3\\lib\\site-packages (from tensorflow) (3.2.1)\n",
      "Collecting grpcio<2.0,>=1.24.3\n",
      "  Downloading grpcio-1.44.0-cp39-cp39-win_amd64.whl (3.4 MB)\n",
      "Collecting absl-py>=0.4.0\n",
      "  Downloading absl_py-1.0.0-py3-none-any.whl (126 kB)\n",
      "Collecting keras-preprocessing>=1.1.1\n",
      "  Downloading Keras_Preprocessing-1.1.2-py2.py3-none-any.whl (42 kB)\n",
      "Collecting libclang>=9.0.1\n",
      "  Downloading libclang-13.0.0-py2.py3-none-win_amd64.whl (13.9 MB)\n",
      "Collecting astunparse>=1.6.0\n",
      "  Downloading astunparse-1.6.3-py2.py3-none-any.whl (12 kB)\n",
      "Requirement already satisfied: numpy>=1.20 in c:\\users\\deeks\\anaconda3\\lib\\site-packages (from tensorflow) (1.20.3)\n",
      "Requirement already satisfied: wheel<1.0,>=0.23.0 in c:\\users\\deeks\\anaconda3\\lib\\site-packages (from astunparse>=1.6.0->tensorflow) (0.37.0)\n",
      "Collecting google-auth-oauthlib<0.5,>=0.4.1\n",
      "  Downloading google_auth_oauthlib-0.4.6-py2.py3-none-any.whl (18 kB)\n",
      "Collecting tensorboard-plugin-wit>=1.6.0\n",
      "  Downloading tensorboard_plugin_wit-1.8.1-py3-none-any.whl (781 kB)\n",
      "Collecting google-auth<3,>=1.6.3\n",
      "  Downloading google_auth-2.6.3-py2.py3-none-any.whl (156 kB)\n",
      "Requirement already satisfied: requests<3,>=2.21.0 in c:\\users\\deeks\\anaconda3\\lib\\site-packages (from tensorboard<2.9,>=2.8->tensorflow) (2.26.0)\n",
      "Requirement already satisfied: werkzeug>=0.11.15 in c:\\users\\deeks\\anaconda3\\lib\\site-packages (from tensorboard<2.9,>=2.8->tensorflow) (2.0.2)\n",
      "Collecting tensorboard-data-server<0.7.0,>=0.6.0\n",
      "  Downloading tensorboard_data_server-0.6.1-py3-none-any.whl (2.4 kB)\n",
      "Collecting markdown>=2.6.8\n",
      "  Downloading Markdown-3.3.6-py3-none-any.whl (97 kB)\n",
      "Collecting pyasn1-modules>=0.2.1\n",
      "  Downloading pyasn1_modules-0.2.8-py2.py3-none-any.whl (155 kB)\n",
      "Collecting cachetools<6.0,>=2.0.0\n",
      "  Downloading cachetools-5.0.0-py3-none-any.whl (9.1 kB)\n",
      "Collecting rsa<5,>=3.1.4\n",
      "  Downloading rsa-4.8-py3-none-any.whl (39 kB)\n",
      "Collecting requests-oauthlib>=0.7.0\n",
      "  Downloading requests_oauthlib-1.3.1-py2.py3-none-any.whl (23 kB)\n",
      "Requirement already satisfied: importlib-metadata>=4.4 in c:\\users\\deeks\\anaconda3\\lib\\site-packages (from markdown>=2.6.8->tensorboard<2.9,>=2.8->tensorflow) (4.8.1)\n",
      "Requirement already satisfied: zipp>=0.5 in c:\\users\\deeks\\anaconda3\\lib\\site-packages (from importlib-metadata>=4.4->markdown>=2.6.8->tensorboard<2.9,>=2.8->tensorflow) (3.6.0)\n",
      "Collecting pyasn1<0.5.0,>=0.4.6\n",
      "  Downloading pyasn1-0.4.8-py2.py3-none-any.whl (77 kB)\n",
      "Requirement already satisfied: urllib3<1.27,>=1.21.1 in c:\\users\\deeks\\anaconda3\\lib\\site-packages (from requests<3,>=2.21.0->tensorboard<2.9,>=2.8->tensorflow) (1.26.7)\n",
      "Requirement already satisfied: charset-normalizer~=2.0.0 in c:\\users\\deeks\\anaconda3\\lib\\site-packages (from requests<3,>=2.21.0->tensorboard<2.9,>=2.8->tensorflow) (2.0.4)\n",
      "Requirement already satisfied: certifi>=2017.4.17 in c:\\users\\deeks\\anaconda3\\lib\\site-packages (from requests<3,>=2.21.0->tensorboard<2.9,>=2.8->tensorflow) (2021.10.8)\n",
      "Requirement already satisfied: idna<4,>=2.5 in c:\\users\\deeks\\anaconda3\\lib\\site-packages (from requests<3,>=2.21.0->tensorboard<2.9,>=2.8->tensorflow) (3.2)\n",
      "Collecting oauthlib>=3.0.0\n",
      "  Downloading oauthlib-3.2.0-py3-none-any.whl (151 kB)\n",
      "Building wheels for collected packages: termcolor\n",
      "  Building wheel for termcolor (setup.py): started\n",
      "  Building wheel for termcolor (setup.py): finished with status 'done'\n",
      "  Created wheel for termcolor: filename=termcolor-1.1.0-py3-none-any.whl size=4847 sha256=f325ca7226fed35b329730572c17cb83853bbc7d3704bbf60621bed9c192888d\n",
      "  Stored in directory: c:\\users\\deeks\\appdata\\local\\pip\\cache\\wheels\\b6\\0d\\90\\0d1bbd99855f99cb2f6c2e5ff96f8023fad8ec367695f7d72d\n",
      "Successfully built termcolor\n",
      "Installing collected packages: pyasn1, rsa, pyasn1-modules, oauthlib, cachetools, requests-oauthlib, google-auth, tensorboard-plugin-wit, tensorboard-data-server, protobuf, markdown, grpcio, google-auth-oauthlib, absl-py, tf-estimator-nightly, termcolor, tensorflow-io-gcs-filesystem, tensorboard, opt-einsum, libclang, keras-preprocessing, google-pasta, gast, flatbuffers, astunparse, tensorflow\n",
      "Successfully installed absl-py-1.0.0 astunparse-1.6.3 cachetools-5.0.0 flatbuffers-2.0 gast-0.5.3 google-auth-2.6.3 google-auth-oauthlib-0.4.6 google-pasta-0.2.0 grpcio-1.44.0 keras-preprocessing-1.1.2 libclang-13.0.0 markdown-3.3.6 oauthlib-3.2.0 opt-einsum-3.3.0 protobuf-3.20.0 pyasn1-0.4.8 pyasn1-modules-0.2.8 requests-oauthlib-1.3.1 rsa-4.8 tensorboard-2.8.0 tensorboard-data-server-0.6.1 tensorboard-plugin-wit-1.8.1 tensorflow-2.8.0 tensorflow-io-gcs-filesystem-0.24.0 termcolor-1.1.0 tf-estimator-nightly-2.8.0.dev2021122109\n",
      "Note: you may need to restart the kernel to use updated packages.\n"
     ]
    }
   ],
   "source": [
    "\n",
    "pip install tensorflow"
   ]
  },
  {
   "cell_type": "code",
   "execution_count": 6,
   "id": "d2cc403e",
   "metadata": {},
   "outputs": [],
   "source": [
    "import numpy as np\n",
    "import keras as k\n",
    "import json\n",
    "from sklearn.preprocessing import LabelEncoder\n",
    "from sklearn.preprocessing import OneHotEncoder\n",
    "from sklearn.model_selection import train_test_split\n",
    "import tensorflow as tf"
   ]
  },
  {
   "cell_type": "code",
   "execution_count": 61,
   "id": "1aa787dc",
   "metadata": {},
   "outputs": [],
   "source": [
    "def load_images_labels(path_to_metadata_json):\n",
    "    file = open(path_to_metadata_json) # Open meta-data\n",
    "    data = json.load(file) # load meta-data\n",
    "    file.close() # close file :)\n",
    "    images , category = [], [] # make lists to append images and categories to\n",
    "    for i in range(20000): # 20,000 is the amount of images we have to work with \n",
    "        images.append(np.array(k.preprocessing.image.load_img(\n",
    "            'C:/Users/deeks/Downloads/2020-02-14_InfraredSolarModules/InfraredSolarModules/'+ data[str(i)]['image_filepath'], color_mode = \"grayscale\"))) # load the image and append to list\n",
    "        category.append(data[str(i)]['anomaly_class']) # load its class\n",
    "    return np.array(images), np.array(category) # return np arrays for ease of use later"
   ]
  },
  {
   "cell_type": "code",
   "execution_count": 62,
   "id": "2b55ca6b",
   "metadata": {},
   "outputs": [],
   "source": [
    "def preprocess_images_labels(images, category):\n",
    "    images = images.reshape(20000, 40, 24, 1) # reshape to show color channels\n",
    "    images = images / 255 # scale data\n",
    "    X_train, X_test, y_train, y_test = train_test_split(images, category, test_size=0.2)\n",
    "    labelencoder = LabelEncoder() # Make a label encoder \n",
    "    y_train = labelencoder.fit_transform(y_train) # encode labels to numbers\n",
    "    y_test = labelencoder.transform(y_test)\n",
    "    y_train = tf.keras.utils.to_categorical(y_train) # encode nubers to catagorical labels\n",
    "    y_test = tf.keras.utils.to_categorical(y_test)\n",
    "    return X_train, X_test, y_train, y_test"
   ]
  },
  {
   "cell_type": "code",
   "execution_count": 63,
   "id": "cec7173b",
   "metadata": {},
   "outputs": [],
   "source": [
    "def define_model():\n",
    "    \"\"\"\n",
    "    This model is a little less accurate than the best one I found.\n",
    "    But it also has onlya quarter the paramenters so its a lot smaller.\n",
    "    \"\"\"\n",
    "    model = k.Sequential()\n",
    "    model.add(k.layers.Conv2D(filters=25, kernel_size=(3,3), strides=(1, 1), padding=\"valid\", input_shape=(40, 24, 1)))\n",
    "    model.add(k.layers.MaxPooling2D(pool_size=(2, 2), strides=(2,2), padding=\"same\"))\n",
    "    model.add(k.layers.Activation('relu'))\n",
    "    model.add(k.layers.Conv2D(filters=25, kernel_size=(3,3), strides=(1, 1), padding=\"valid\"))\n",
    "    model.add(k.layers.Activation('relu'))\n",
    "    model.add(k.layers.MaxPooling2D(pool_size=(2, 2), strides=(2,2), padding=\"same\"))\n",
    "    model.add(k.layers.Flatten())\n",
    "    model.add(k.layers.Dense(675))\n",
    "    model.add(k.layers.Activation('relu'))\n",
    "    model.add(k.layers.Dense(12))\n",
    "    model.add(k.layers.Activation('softmax'))\n",
    "    model.compile(optimizer='adam', loss='categorical_crossentropy', metrics=[\"accuracy\"])\n",
    "    model.summary()\n",
    "    return model"
   ]
  },
  {
   "cell_type": "code",
   "execution_count": 64,
   "id": "c871b76b",
   "metadata": {},
   "outputs": [],
   "source": [
    "images, categories = load_images_labels('C:/Users/deeks/Downloads/2020-02-14_InfraredSolarModules/InfraredSolarModules/module_metadata.json')\n",
    "# prrocess and train test split\n",
    "X_train, X_valid, y_train, y_valid = preprocess_images_labels(images, categories)"
   ]
  },
  {
   "cell_type": "code",
   "execution_count": 65,
   "id": "420757d8",
   "metadata": {
    "scrolled": true
   },
   "outputs": [
    {
     "name": "stdout",
     "output_type": "stream",
     "text": [
      "Model: \"sequential_5\"\n",
      "_________________________________________________________________\n",
      " Layer (type)                Output Shape              Param #   \n",
      "=================================================================\n",
      " conv2d_10 (Conv2D)          (None, 38, 22, 25)        250       \n",
      "                                                                 \n",
      " max_pooling2d_10 (MaxPoolin  (None, 19, 11, 25)       0         \n",
      " g2D)                                                            \n",
      "                                                                 \n",
      " activation_20 (Activation)  (None, 19, 11, 25)        0         \n",
      "                                                                 \n",
      " conv2d_11 (Conv2D)          (None, 17, 9, 25)         5650      \n",
      "                                                                 \n",
      " activation_21 (Activation)  (None, 17, 9, 25)         0         \n",
      "                                                                 \n",
      " max_pooling2d_11 (MaxPoolin  (None, 9, 5, 25)         0         \n",
      " g2D)                                                            \n",
      "                                                                 \n",
      " flatten_5 (Flatten)         (None, 1125)              0         \n",
      "                                                                 \n",
      " dense_10 (Dense)            (None, 675)               760050    \n",
      "                                                                 \n",
      " activation_22 (Activation)  (None, 675)               0         \n",
      "                                                                 \n",
      " dense_11 (Dense)            (None, 12)                8112      \n",
      "                                                                 \n",
      " activation_23 (Activation)  (None, 12)                0         \n",
      "                                                                 \n",
      "=================================================================\n",
      "Total params: 774,062\n",
      "Trainable params: 774,062\n",
      "Non-trainable params: 0\n",
      "_________________________________________________________________\n",
      "Model: \"sequential_5\"\n",
      "_________________________________________________________________\n",
      " Layer (type)                Output Shape              Param #   \n",
      "=================================================================\n",
      " conv2d_10 (Conv2D)          (None, 38, 22, 25)        250       \n",
      "                                                                 \n",
      " max_pooling2d_10 (MaxPoolin  (None, 19, 11, 25)       0         \n",
      " g2D)                                                            \n",
      "                                                                 \n",
      " activation_20 (Activation)  (None, 19, 11, 25)        0         \n",
      "                                                                 \n",
      " conv2d_11 (Conv2D)          (None, 17, 9, 25)         5650      \n",
      "                                                                 \n",
      " activation_21 (Activation)  (None, 17, 9, 25)         0         \n",
      "                                                                 \n",
      " max_pooling2d_11 (MaxPoolin  (None, 9, 5, 25)         0         \n",
      " g2D)                                                            \n",
      "                                                                 \n",
      " flatten_5 (Flatten)         (None, 1125)              0         \n",
      "                                                                 \n",
      " dense_10 (Dense)            (None, 675)               760050    \n",
      "                                                                 \n",
      " activation_22 (Activation)  (None, 675)               0         \n",
      "                                                                 \n",
      " dense_11 (Dense)            (None, 12)                8112      \n",
      "                                                                 \n",
      " activation_23 (Activation)  (None, 12)                0         \n",
      "                                                                 \n",
      "=================================================================\n",
      "Total params: 774,062\n",
      "Trainable params: 774,062\n",
      "Non-trainable params: 0\n",
      "_________________________________________________________________\n"
     ]
    }
   ],
   "source": [
    "# define model\n",
    "model = define_model()\n",
    "model.summary()\n"
   ]
  },
  {
   "cell_type": "code",
   "execution_count": 66,
   "id": "f8002ae6",
   "metadata": {},
   "outputs": [
    {
     "name": "stdout",
     "output_type": "stream",
     "text": [
      "Epoch 1/20\n",
      "800/800 [==============================] - 17s 20ms/step - loss: 1.7690 - accuracy: 0.5002\n",
      "Epoch 2/20\n",
      "800/800 [==============================] - 13s 16ms/step - loss: 1.5495 - accuracy: 0.5373\n",
      "Epoch 3/20\n",
      "800/800 [==============================] - 15s 19ms/step - loss: 1.2628 - accuracy: 0.6203\n",
      "Epoch 4/20\n",
      "800/800 [==============================] - 17s 21ms/step - loss: 1.1216 - accuracy: 0.6553\n",
      "Epoch 5/20\n",
      "800/800 [==============================] - 16s 19ms/step - loss: 1.0227 - accuracy: 0.6800\n",
      "Epoch 6/20\n",
      "800/800 [==============================] - 17s 21ms/step - loss: 0.9518 - accuracy: 0.6996\n",
      "Epoch 7/20\n",
      "800/800 [==============================] - 16s 21ms/step - loss: 0.8798 - accuracy: 0.7204\n",
      "Epoch 8/20\n",
      "800/800 [==============================] - 16s 19ms/step - loss: 0.8246 - accuracy: 0.7394\n",
      "Epoch 9/20\n",
      "800/800 [==============================] - 16s 20ms/step - loss: 0.7782 - accuracy: 0.7503\n",
      "Epoch 10/20\n",
      "800/800 [==============================] - 17s 21ms/step - loss: 0.7250 - accuracy: 0.7684\n",
      "Epoch 11/20\n",
      "800/800 [==============================] - 16s 20ms/step - loss: 0.6768 - accuracy: 0.7830\n",
      "Epoch 12/20\n",
      "800/800 [==============================] - 16s 20ms/step - loss: 0.6367 - accuracy: 0.7943\n",
      "Epoch 13/20\n",
      "800/800 [==============================] - 17s 21ms/step - loss: 0.5910 - accuracy: 0.8086\n",
      "Epoch 14/20\n",
      "800/800 [==============================] - 16s 21ms/step - loss: 0.5513 - accuracy: 0.8213\n",
      "Epoch 15/20\n",
      "800/800 [==============================] - 17s 21ms/step - loss: 0.5183 - accuracy: 0.8324\n",
      "Epoch 16/20\n",
      "800/800 [==============================] - 17s 21ms/step - loss: 0.4790 - accuracy: 0.8450\n",
      "Epoch 17/20\n",
      "800/800 [==============================] - 16s 20ms/step - loss: 0.4438 - accuracy: 0.8557\n",
      "Epoch 18/20\n",
      "800/800 [==============================] - 17s 21ms/step - loss: 0.4090 - accuracy: 0.8649\n",
      "Epoch 19/20\n",
      "800/800 [==============================] - 16s 21ms/step - loss: 0.3817 - accuracy: 0.8749\n",
      "Epoch 20/20\n",
      "800/800 [==============================] - 16s 20ms/step - loss: 0.3530 - accuracy: 0.8857\n"
     ]
    }
   ],
   "source": [
    "# fit\n",
    "history = model.fit(X_train, y_train, epochs=20, batch_size=20, verbose=1, shuffle=True)"
   ]
  },
  {
   "cell_type": "code",
   "execution_count": 67,
   "id": "502aa135",
   "metadata": {},
   "outputs": [
    {
     "name": "stdout",
     "output_type": "stream",
     "text": [
      "125/125 [==============================] - 2s 10ms/step - loss: 0.9272 - accuracy: 0.7623\n"
     ]
    },
    {
     "data": {
      "text/plain": [
       "[0.9271612167358398, 0.7622500061988831]"
      ]
     },
     "execution_count": 67,
     "metadata": {},
     "output_type": "execute_result"
    }
   ],
   "source": [
    "# evaluate\n",
    "model.evaluate(X_valid, y_valid, verbose=1)"
   ]
  },
  {
   "cell_type": "code",
   "execution_count": 206,
   "id": "977d710d",
   "metadata": {},
   "outputs": [],
   "source": [
    "from PIL import Image\n",
    "\n",
    "im=Image.open(r'C:\\Users\\deeks\\Downloads\\2020-02-14_InfraredSolarModules\\InfraredSolarModules\\images\\0.jpg')\n",
    "im.show()"
   ]
  },
  {
   "cell_type": "code",
   "execution_count": 77,
   "id": "900e0d19",
   "metadata": {},
   "outputs": [],
   "source": [
    "import matplotlib.pyplot as plt"
   ]
  },
  {
   "cell_type": "code",
   "execution_count": 407,
   "id": "302d87e6",
   "metadata": {},
   "outputs": [],
   "source": [
    "im=plt.imread('C:/Users/deeks/Downloads/2020-02-14_InfraredSolarModules/InfraredSolarModules/images/8351.jpg')\n",
    "im1 = im.reshape(1,40, 24, 1) # reshape to show color channels\n",
    "im1 = im1 / 255 # scale data\n",
    "m=model.predict(im1)\n"
   ]
  },
  {
   "cell_type": "code",
   "execution_count": 460,
   "id": "14c5684e",
   "metadata": {
    "scrolled": false
   },
   "outputs": [],
   "source": [
    "import csv\n",
    "list1=[]\n",
    "#with open('try.csv','w')as csvfile:\n",
    "for i in range(20000):\n",
    "    im=plt.imread('C:/Users/deeks/Downloads/2020-02-14_InfraredSolarModules/InfraredSolarModules/images/'+str(i)+'.jpg')\n",
    "    im1 = im.reshape(1,40, 24, 1) # reshape to show color channels\n",
    "    im1 = im1 / 255 # scale data\n",
    "    m=model.predict(im1)\n",
    "    list1.append([i,np.argmax(m)])\n",
    "    #csvwriter=csv.writer(csvfile)\n",
    "    #csvwriter.writerow(['file name','class name'])\n",
    "    #csvwriter.writerows([i,np.argmax(m)])\n",
    "\n",
    "file = open('try.csv', 'a+', newline ='')\n",
    "  \n",
    "# writing the data into the file\n",
    "with file:    \n",
    "    write = csv.writer(file)\n",
    "    write.writerows(list1)"
   ]
  },
  {
   "cell_type": "code",
   "execution_count": 483,
   "id": "0431b080",
   "metadata": {
    "scrolled": true
   },
   "outputs": [
    {
     "name": "stdout",
     "output_type": "stream",
     "text": [
      "0\n"
     ]
    }
   ],
   "source": []
  },
  {
   "cell_type": "code",
   "execution_count": 469,
   "id": "e7ff9780",
   "metadata": {},
   "outputs": [
    {
     "name": "stdout",
     "output_type": "stream",
     "text": [
      "0\n"
     ]
    }
   ],
   "source": []
  },
  {
   "cell_type": "code",
   "execution_count": 411,
   "id": "00b78660",
   "metadata": {
    "scrolled": true
   },
   "outputs": [
    {
     "data": {
      "text/plain": [
       "11"
      ]
     },
     "execution_count": 411,
     "metadata": {},
     "output_type": "execute_result"
    }
   ],
   "source": [
    "np.argmax(m)"
   ]
  },
  {
   "cell_type": "code",
   "execution_count": 412,
   "id": "7e75418c",
   "metadata": {
    "scrolled": true
   },
   "outputs": [
    {
     "data": {
      "text/plain": [
       "array(['Offline-Module', 'Offline-Module', 'Offline-Module', ...,\n",
       "       'No-Anomaly', 'No-Anomaly', 'No-Anomaly'], dtype='<U14')"
      ]
     },
     "execution_count": 412,
     "metadata": {},
     "output_type": "execute_result"
    }
   ],
   "source": [
    "categories"
   ]
  },
  {
   "cell_type": "code",
   "execution_count": 348,
   "id": "371fd5b1",
   "metadata": {},
   "outputs": [],
   "source": [
    "import pandas as pd \n",
    "df = pd.read_json('C:/Users/deeks/Downloads/2020-02-14_InfraredSolarModules/InfraredSolarModules/module_metadata.json')\n",
    "df.to_csv('C:/Users/deeks/Downloads/2020-02-14_InfraredSolarModules/classes_data.csv')"
   ]
  }
 ],
 "metadata": {
  "kernelspec": {
   "display_name": "Python 3 (ipykernel)",
   "language": "python",
   "name": "python3"
  },
  "language_info": {
   "codemirror_mode": {
    "name": "ipython",
    "version": 3
   },
   "file_extension": ".py",
   "mimetype": "text/x-python",
   "name": "python",
   "nbconvert_exporter": "python",
   "pygments_lexer": "ipython3",
   "version": "3.9.7"
  }
 },
 "nbformat": 4,
 "nbformat_minor": 5
}
