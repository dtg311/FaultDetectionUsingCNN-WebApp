{
 "cells": [
  {
   "cell_type": "code",
   "execution_count": 1,
   "id": "f10daabf",
   "metadata": {},
   "outputs": [
    {
     "name": "stdout",
     "output_type": "stream",
     "text": [
      "Requirement already satisfied: tensorflow in c:\\users\\deeks\\anaconda3\\lib\\site-packages (2.8.0)\n",
      "Requirement already satisfied: numpy>=1.20 in c:\\users\\deeks\\anaconda3\\lib\\site-packages (from tensorflow) (1.20.3)\n",
      "Requirement already satisfied: keras-preprocessing>=1.1.1 in c:\\users\\deeks\\anaconda3\\lib\\site-packages (from tensorflow) (1.1.2)\n",
      "Requirement already satisfied: typing-extensions>=3.6.6 in c:\\users\\deeks\\anaconda3\\lib\\site-packages (from tensorflow) (3.10.0.2)\n",
      "Requirement already satisfied: libclang>=9.0.1 in c:\\users\\deeks\\anaconda3\\lib\\site-packages (from tensorflow) (13.0.0)\n",
      "Requirement already satisfied: setuptools in c:\\users\\deeks\\anaconda3\\lib\\site-packages (from tensorflow) (58.0.4)\n",
      "Requirement already satisfied: protobuf>=3.9.2 in c:\\users\\deeks\\anaconda3\\lib\\site-packages (from tensorflow) (3.20.0)\n",
      "Requirement already satisfied: keras<2.9,>=2.8.0rc0 in c:\\users\\deeks\\anaconda3\\lib\\site-packages (from tensorflow) (2.8.0)\n",
      "Requirement already satisfied: flatbuffers>=1.12 in c:\\users\\deeks\\anaconda3\\lib\\site-packages (from tensorflow) (2.0)\n",
      "Requirement already satisfied: wrapt>=1.11.0 in c:\\users\\deeks\\anaconda3\\lib\\site-packages (from tensorflow) (1.12.1)\n",
      "Requirement already satisfied: grpcio<2.0,>=1.24.3 in c:\\users\\deeks\\anaconda3\\lib\\site-packages (from tensorflow) (1.44.0)\n",
      "Requirement already satisfied: google-pasta>=0.1.1 in c:\\users\\deeks\\anaconda3\\lib\\site-packages (from tensorflow) (0.2.0)\n",
      "Requirement already satisfied: six>=1.12.0 in c:\\users\\deeks\\anaconda3\\lib\\site-packages (from tensorflow) (1.16.0)\n",
      "Requirement already satisfied: astunparse>=1.6.0 in c:\\users\\deeks\\anaconda3\\lib\\site-packages (from tensorflow) (1.6.3)\n",
      "Requirement already satisfied: tensorflow-io-gcs-filesystem>=0.23.1 in c:\\users\\deeks\\anaconda3\\lib\\site-packages (from tensorflow) (0.24.0)\n",
      "Requirement already satisfied: tf-estimator-nightly==2.8.0.dev2021122109 in c:\\users\\deeks\\anaconda3\\lib\\site-packages (from tensorflow) (2.8.0.dev2021122109)\n",
      "Requirement already satisfied: h5py>=2.9.0 in c:\\users\\deeks\\anaconda3\\lib\\site-packages (from tensorflow) (3.2.1)\n",
      "Requirement already satisfied: absl-py>=0.4.0 in c:\\users\\deeks\\anaconda3\\lib\\site-packages (from tensorflow) (1.0.0)\n",
      "Requirement already satisfied: tensorboard<2.9,>=2.8 in c:\\users\\deeks\\anaconda3\\lib\\site-packages (from tensorflow) (2.8.0)\n",
      "Requirement already satisfied: opt-einsum>=2.3.2 in c:\\users\\deeks\\anaconda3\\lib\\site-packages (from tensorflow) (3.3.0)\n",
      "Requirement already satisfied: termcolor>=1.1.0 in c:\\users\\deeks\\anaconda3\\lib\\site-packages (from tensorflow) (1.1.0)\n",
      "Requirement already satisfied: gast>=0.2.1 in c:\\users\\deeks\\anaconda3\\lib\\site-packages (from tensorflow) (0.5.3)\n",
      "Note: you may need to restart the kernel to use updated packages.\n",
      "Requirement already satisfied: wheel<1.0,>=0.23.0 in c:\\users\\deeks\\anaconda3\\lib\\site-packages (from astunparse>=1.6.0->tensorflow) (0.37.0)\n",
      "Requirement already satisfied: tensorboard-plugin-wit>=1.6.0 in c:\\users\\deeks\\anaconda3\\lib\\site-packages (from tensorboard<2.9,>=2.8->tensorflow) (1.8.1)\n",
      "Requirement already satisfied: werkzeug>=0.11.15 in c:\\users\\deeks\\anaconda3\\lib\\site-packages (from tensorboard<2.9,>=2.8->tensorflow) (2.0.2)\n",
      "Requirement already satisfied: markdown>=2.6.8 in c:\\users\\deeks\\anaconda3\\lib\\site-packages (from tensorboard<2.9,>=2.8->tensorflow) (3.3.6)\n",
      "Requirement already satisfied: tensorboard-data-server<0.7.0,>=0.6.0 in c:\\users\\deeks\\anaconda3\\lib\\site-packages (from tensorboard<2.9,>=2.8->tensorflow) (0.6.1)\n",
      "Requirement already satisfied: google-auth-oauthlib<0.5,>=0.4.1 in c:\\users\\deeks\\anaconda3\\lib\\site-packages (from tensorboard<2.9,>=2.8->tensorflow) (0.4.6)\n",
      "Requirement already satisfied: requests<3,>=2.21.0 in c:\\users\\deeks\\anaconda3\\lib\\site-packages (from tensorboard<2.9,>=2.8->tensorflow) (2.26.0)\n",
      "Requirement already satisfied: google-auth<3,>=1.6.3 in c:\\users\\deeks\\anaconda3\\lib\\site-packages (from tensorboard<2.9,>=2.8->tensorflow) (2.6.3)\n",
      "Requirement already satisfied: rsa<5,>=3.1.4 in c:\\users\\deeks\\anaconda3\\lib\\site-packages (from google-auth<3,>=1.6.3->tensorboard<2.9,>=2.8->tensorflow) (4.8)\n",
      "Requirement already satisfied: pyasn1-modules>=0.2.1 in c:\\users\\deeks\\anaconda3\\lib\\site-packages (from google-auth<3,>=1.6.3->tensorboard<2.9,>=2.8->tensorflow) (0.2.8)\n",
      "Requirement already satisfied: cachetools<6.0,>=2.0.0 in c:\\users\\deeks\\anaconda3\\lib\\site-packages (from google-auth<3,>=1.6.3->tensorboard<2.9,>=2.8->tensorflow) (5.0.0)\n",
      "Requirement already satisfied: requests-oauthlib>=0.7.0 in c:\\users\\deeks\\anaconda3\\lib\\site-packages (from google-auth-oauthlib<0.5,>=0.4.1->tensorboard<2.9,>=2.8->tensorflow) (1.3.1)\n",
      "Requirement already satisfied: importlib-metadata>=4.4 in c:\\users\\deeks\\anaconda3\\lib\\site-packages (from markdown>=2.6.8->tensorboard<2.9,>=2.8->tensorflow) (4.8.1)\n",
      "Requirement already satisfied: zipp>=0.5 in c:\\users\\deeks\\anaconda3\\lib\\site-packages (from importlib-metadata>=4.4->markdown>=2.6.8->tensorboard<2.9,>=2.8->tensorflow) (3.6.0)\n",
      "Requirement already satisfied: pyasn1<0.5.0,>=0.4.6 in c:\\users\\deeks\\anaconda3\\lib\\site-packages (from pyasn1-modules>=0.2.1->google-auth<3,>=1.6.3->tensorboard<2.9,>=2.8->tensorflow) (0.4.8)\n",
      "Requirement already satisfied: idna<4,>=2.5 in c:\\users\\deeks\\anaconda3\\lib\\site-packages (from requests<3,>=2.21.0->tensorboard<2.9,>=2.8->tensorflow) (3.2)\n",
      "Requirement already satisfied: certifi>=2017.4.17 in c:\\users\\deeks\\anaconda3\\lib\\site-packages (from requests<3,>=2.21.0->tensorboard<2.9,>=2.8->tensorflow) (2021.10.8)\n",
      "Requirement already satisfied: charset-normalizer~=2.0.0 in c:\\users\\deeks\\anaconda3\\lib\\site-packages (from requests<3,>=2.21.0->tensorboard<2.9,>=2.8->tensorflow) (2.0.4)\n",
      "Requirement already satisfied: urllib3<1.27,>=1.21.1 in c:\\users\\deeks\\anaconda3\\lib\\site-packages (from requests<3,>=2.21.0->tensorboard<2.9,>=2.8->tensorflow) (1.26.7)\n",
      "Requirement already satisfied: oauthlib>=3.0.0 in c:\\users\\deeks\\anaconda3\\lib\\site-packages (from requests-oauthlib>=0.7.0->google-auth-oauthlib<0.5,>=0.4.1->tensorboard<2.9,>=2.8->tensorflow) (3.2.0)\n"
     ]
    }
   ],
   "source": [
    "\n",
    "pip install tensorflow"
   ]
  },
  {
   "cell_type": "code",
   "execution_count": 2,
   "id": "d2cc403e",
   "metadata": {},
   "outputs": [],
   "source": [
    "import numpy as np\n",
    "import keras as k\n",
    "import json\n",
    "from sklearn.preprocessing import LabelEncoder\n",
    "from sklearn.preprocessing import OneHotEncoder\n",
    "from sklearn.model_selection import train_test_split\n",
    "import tensorflow as tf"
   ]
  },
  {
   "cell_type": "code",
   "execution_count": 3,
   "id": "1aa787dc",
   "metadata": {},
   "outputs": [],
   "source": [
    "def load_images_labels(path_to_metadata_json):\n",
    "    file = open(path_to_metadata_json) # Open meta-data\n",
    "    data = json.load(file) # load meta-data\n",
    "    file.close() # close file :)\n",
    "    images , category = [], [] # make lists to append images and categories to\n",
    "    for i in range(20000): # 20,000 is the amount of images we have to work with \n",
    "        images.append(np.array(k.preprocessing.image.load_img(\n",
    "            'C:/Users/deeks/Downloads/2020-02-14_InfraredSolarModules/InfraredSolarModules/'+ data[str(i)]['image_filepath'], color_mode = \"grayscale\"))) # load the image and append to list\n",
    "        category.append(data[str(i)]['anomaly_class']) # load its class\n",
    "    return np.array(images), np.array(category) # return np arrays for ease of use later"
   ]
  },
  {
   "cell_type": "code",
   "execution_count": 4,
   "id": "2b55ca6b",
   "metadata": {},
   "outputs": [],
   "source": [
    "def preprocess_images_labels(images, category):\n",
    "    images = images.reshape(20000, 40, 24, 1) # reshape to show color channels\n",
    "    images = images / 255 # scale data\n",
    "    X_train, X_test, y_train, y_test = train_test_split(images, category, test_size=0.2)\n",
    "    labelencoder = LabelEncoder() # Make a label encoder \n",
    "    y_train = labelencoder.fit_transform(y_train) # encode labels to numbers\n",
    "    y_test = labelencoder.transform(y_test)\n",
    "    y_train = tf.keras.utils.to_categorical(y_train) # encode nubers to catagorical labels\n",
    "    y_test = tf.keras.utils.to_categorical(y_test)\n",
    "    return X_train, X_test, y_train, y_test"
   ]
  },
  {
   "cell_type": "code",
   "execution_count": 5,
   "id": "cec7173b",
   "metadata": {},
   "outputs": [],
   "source": [
    "def define_model():\n",
    "    \"\"\"\n",
    "    This model is a little less accurate than the best one I found.\n",
    "    But it also has onlya quarter the paramenters so its a lot smaller.\n",
    "    \"\"\"\n",
    "    model = k.Sequential()\n",
    "    model.add(k.layers.Conv2D(filters=25, kernel_size=(3,3), strides=(1, 1), padding=\"valid\", input_shape=(40, 24, 1)))\n",
    "    model.add(k.layers.MaxPooling2D(pool_size=(2, 2), strides=(2,2), padding=\"same\"))\n",
    "    model.add(k.layers.Activation('relu'))\n",
    "    model.add(k.layers.Conv2D(filters=25, kernel_size=(3,3), strides=(1, 1), padding=\"valid\"))\n",
    "    model.add(k.layers.Activation('relu'))\n",
    "    model.add(k.layers.MaxPooling2D(pool_size=(2, 2), strides=(2,2), padding=\"same\"))\n",
    "    model.add(k.layers.Flatten())\n",
    "    model.add(k.layers.Dense(675))\n",
    "    model.add(k.layers.Activation('relu'))\n",
    "    model.add(k.layers.Dense(12))\n",
    "    model.add(k.layers.Activation('softmax'))\n",
    "    model.compile(optimizer='adam', loss='categorical_crossentropy', metrics=[\"accuracy\"])\n",
    "    model.summary()\n",
    "    return model"
   ]
  },
  {
   "cell_type": "code",
   "execution_count": 6,
   "id": "c871b76b",
   "metadata": {},
   "outputs": [],
   "source": [
    "images, categories = load_images_labels('C:/Users/deeks/Downloads/2020-02-14_InfraredSolarModules/InfraredSolarModules/module_metadata.json')\n",
    "# prrocess and train test split\n",
    "X_train, X_valid, y_train, y_valid = preprocess_images_labels(images, categories)"
   ]
  },
  {
   "cell_type": "code",
   "execution_count": 7,
   "id": "420757d8",
   "metadata": {
    "scrolled": true
   },
   "outputs": [
    {
     "name": "stdout",
     "output_type": "stream",
     "text": [
      "Model: \"sequential\"\n",
      "_________________________________________________________________\n",
      " Layer (type)                Output Shape              Param #   \n",
      "=================================================================\n",
      " conv2d (Conv2D)             (None, 38, 22, 25)        250       \n",
      "                                                                 \n",
      " max_pooling2d (MaxPooling2D  (None, 19, 11, 25)       0         \n",
      " )                                                               \n",
      "                                                                 \n",
      " activation (Activation)     (None, 19, 11, 25)        0         \n",
      "                                                                 \n",
      " conv2d_1 (Conv2D)           (None, 17, 9, 25)         5650      \n",
      "                                                                 \n",
      " activation_1 (Activation)   (None, 17, 9, 25)         0         \n",
      "                                                                 \n",
      " max_pooling2d_1 (MaxPooling  (None, 9, 5, 25)         0         \n",
      " 2D)                                                             \n",
      "                                                                 \n",
      " flatten (Flatten)           (None, 1125)              0         \n",
      "                                                                 \n",
      " dense (Dense)               (None, 675)               760050    \n",
      "                                                                 \n",
      " activation_2 (Activation)   (None, 675)               0         \n",
      "                                                                 \n",
      " dense_1 (Dense)             (None, 12)                8112      \n",
      "                                                                 \n",
      " activation_3 (Activation)   (None, 12)                0         \n",
      "                                                                 \n",
      "=================================================================\n",
      "Total params: 774,062\n",
      "Trainable params: 774,062\n",
      "Non-trainable params: 0\n",
      "_________________________________________________________________\n",
      "Model: \"sequential\"\n",
      "_________________________________________________________________\n",
      " Layer (type)                Output Shape              Param #   \n",
      "=================================================================\n",
      " conv2d (Conv2D)             (None, 38, 22, 25)        250       \n",
      "                                                                 \n",
      " max_pooling2d (MaxPooling2D  (None, 19, 11, 25)       0         \n",
      " )                                                               \n",
      "                                                                 \n",
      " activation (Activation)     (None, 19, 11, 25)        0         \n",
      "                                                                 \n",
      " conv2d_1 (Conv2D)           (None, 17, 9, 25)         5650      \n",
      "                                                                 \n",
      " activation_1 (Activation)   (None, 17, 9, 25)         0         \n",
      "                                                                 \n",
      " max_pooling2d_1 (MaxPooling  (None, 9, 5, 25)         0         \n",
      " 2D)                                                             \n",
      "                                                                 \n",
      " flatten (Flatten)           (None, 1125)              0         \n",
      "                                                                 \n",
      " dense (Dense)               (None, 675)               760050    \n",
      "                                                                 \n",
      " activation_2 (Activation)   (None, 675)               0         \n",
      "                                                                 \n",
      " dense_1 (Dense)             (None, 12)                8112      \n",
      "                                                                 \n",
      " activation_3 (Activation)   (None, 12)                0         \n",
      "                                                                 \n",
      "=================================================================\n",
      "Total params: 774,062\n",
      "Trainable params: 774,062\n",
      "Non-trainable params: 0\n",
      "_________________________________________________________________\n"
     ]
    }
   ],
   "source": [
    "# define model\n",
    "model = define_model()\n",
    "model.summary()\n"
   ]
  },
  {
   "cell_type": "code",
   "execution_count": 8,
   "id": "f8002ae6",
   "metadata": {},
   "outputs": [
    {
     "name": "stdout",
     "output_type": "stream",
     "text": [
      "Epoch 1/20\n",
      "800/800 [==============================] - 15s 18ms/step - loss: 1.7750 - accuracy: 0.4999\n",
      "Epoch 2/20\n",
      "800/800 [==============================] - 14s 18ms/step - loss: 1.6192 - accuracy: 0.5196\n",
      "Epoch 3/20\n",
      "800/800 [==============================] - 14s 18ms/step - loss: 1.3243 - accuracy: 0.6032\n",
      "Epoch 4/20\n",
      "800/800 [==============================] - 14s 18ms/step - loss: 1.1530 - accuracy: 0.6456\n",
      "Epoch 5/20\n",
      "800/800 [==============================] - 14s 18ms/step - loss: 1.0595 - accuracy: 0.6702\n",
      "Epoch 6/20\n",
      "800/800 [==============================] - 14s 18ms/step - loss: 0.9899 - accuracy: 0.6927\n",
      "Epoch 7/20\n",
      "800/800 [==============================] - 14s 17ms/step - loss: 0.9264 - accuracy: 0.7114\n",
      "Epoch 8/20\n",
      "800/800 [==============================] - 13s 17ms/step - loss: 0.8778 - accuracy: 0.7262\n",
      "Epoch 9/20\n",
      "800/800 [==============================] - 13s 17ms/step - loss: 0.8257 - accuracy: 0.7389\n",
      "Epoch 10/20\n",
      "800/800 [==============================] - 14s 18ms/step - loss: 0.7882 - accuracy: 0.7506\n",
      "Epoch 11/20\n",
      "800/800 [==============================] - 13s 17ms/step - loss: 0.7415 - accuracy: 0.7636\n",
      "Epoch 12/20\n",
      "800/800 [==============================] - 15s 18ms/step - loss: 0.6975 - accuracy: 0.7783\n",
      "Epoch 13/20\n",
      "800/800 [==============================] - 14s 18ms/step - loss: 0.6594 - accuracy: 0.7869\n",
      "Epoch 14/20\n",
      "800/800 [==============================] - 16s 20ms/step - loss: 0.6195 - accuracy: 0.8023\n",
      "Epoch 15/20\n",
      "800/800 [==============================] - 12s 15ms/step - loss: 0.5904 - accuracy: 0.8079\n",
      "Epoch 16/20\n",
      "800/800 [==============================] - 12s 16ms/step - loss: 0.5410 - accuracy: 0.8244\n",
      "Epoch 17/20\n",
      "800/800 [==============================] - 13s 16ms/step - loss: 0.5095 - accuracy: 0.8365\n",
      "Epoch 18/20\n",
      "800/800 [==============================] - 18s 22ms/step - loss: 0.4739 - accuracy: 0.8482\n",
      "Epoch 19/20\n",
      "800/800 [==============================] - 14s 17ms/step - loss: 0.4496 - accuracy: 0.8531\n",
      "Epoch 20/20\n",
      "800/800 [==============================] - 14s 17ms/step - loss: 0.4153 - accuracy: 0.8641\n"
     ]
    }
   ],
   "source": [
    "# fit\n",
    "history = model.fit(X_train, y_train, epochs=20, batch_size=20, verbose=1, shuffle=True)"
   ]
  },
  {
   "cell_type": "code",
   "execution_count": 9,
   "id": "502aa135",
   "metadata": {},
   "outputs": [
    {
     "name": "stdout",
     "output_type": "stream",
     "text": [
      "125/125 [==============================] - 1s 6ms/step - loss: 0.9096 - accuracy: 0.7570\n"
     ]
    },
    {
     "data": {
      "text/plain": [
       "[0.9095854163169861, 0.7570000290870667]"
      ]
     },
     "execution_count": 9,
     "metadata": {},
     "output_type": "execute_result"
    }
   ],
   "source": [
    "# evaluate\n",
    "model.evaluate(X_valid, y_valid, verbose=1)"
   ]
  },
  {
   "cell_type": "code",
   "execution_count": 206,
   "id": "977d710d",
   "metadata": {},
   "outputs": [],
   "source": [
    "from PIL import Image\n",
    "\n",
    "im=Image.open(r'C:\\Users\\deeks\\Downloads\\2020-02-14_InfraredSolarModules\\InfraredSolarModules\\images\\0.jpg')\n",
    "im.show()"
   ]
  },
  {
   "cell_type": "code",
   "execution_count": 10,
   "id": "900e0d19",
   "metadata": {},
   "outputs": [],
   "source": [
    "import matplotlib.pyplot as plt"
   ]
  },
  {
   "cell_type": "code",
   "execution_count": 11,
   "id": "302d87e6",
   "metadata": {},
   "outputs": [],
   "source": [
    "im=plt.imread('C:/Users/deeks/Downloads/2020-02-14_InfraredSolarModules/InfraredSolarModules/images/8351.jpg')\n",
    "im1 = im.reshape(1,40, 24, 1) # reshape to show color channels\n",
    "im1 = im1 / 255 # scale data\n",
    "m=model.predict(im1)\n"
   ]
  },
  {
   "cell_type": "code",
   "execution_count": null,
   "id": "14c5684e",
   "metadata": {
    "scrolled": false
   },
   "outputs": [],
   "source": [
    "import csv\n",
    "list1=[]\n",
    "#with open('try.csv','w')as csvfile:\n",
    "for i in range(20000):\n",
    "    im=plt.imread('C:/Users/deeks/Downloads/2020-02-14_InfraredSolarModules/InfraredSolarModules/images/'+str(i)+'.jpg')\n",
    "    im1 = im.reshape(1,40, 24, 1) # reshape to show color channels\n",
    "    im1 = im1 / 255 # scale data\n",
    "    m=model.predict(im1)\n",
    "    list1.append([i,np.argmax(m)])\n",
    "    #csvwriter=csv.writer(csvfile)\n",
    "    #csvwriter.writerow(['file name','class name'])\n",
    "    #csvwriter.writerows([i,np.argmax(m)])\n",
    "\n",
    "file = open('try.csv', 'a+', newline ='')\n",
    "  \n",
    "# writing the data into the file\n",
    "with file:    \n",
    "    write = csv.writer(file)\n",
    "    write.writerows(list1)"
   ]
  },
  {
   "cell_type": "code",
   "execution_count": 483,
   "id": "0431b080",
   "metadata": {
    "scrolled": true
   },
   "outputs": [
    {
     "name": "stdout",
     "output_type": "stream",
     "text": [
      "0\n"
     ]
    }
   ],
   "source": []
  },
  {
   "cell_type": "code",
   "execution_count": 469,
   "id": "e7ff9780",
   "metadata": {},
   "outputs": [
    {
     "name": "stdout",
     "output_type": "stream",
     "text": [
      "0\n"
     ]
    }
   ],
   "source": []
  },
  {
   "cell_type": "code",
   "execution_count": null,
   "id": "00b78660",
   "metadata": {
    "scrolled": true
   },
   "outputs": [],
   "source": [
    "np.argmax(m)"
   ]
  },
  {
   "cell_type": "code",
   "execution_count": null,
   "id": "7e75418c",
   "metadata": {
    "scrolled": true
   },
   "outputs": [],
   "source": [
    "categories"
   ]
  },
  {
   "cell_type": "code",
   "execution_count": null,
   "id": "371fd5b1",
   "metadata": {},
   "outputs": [],
   "source": [
    "import pandas as pd \n",
    "df = pd.read_json('C:/Users/deeks/Downloads/2020-02-14_InfraredSolarModules/InfraredSolarModules/module_metadata.json')\n",
    "df.to_csv('C:/Users/deeks/Downloads/2020-02-14_InfraredSolarModules/classes_data.csv')"
   ]
  },
  {
   "cell_type": "code",
   "execution_count": 14,
   "id": "d54bbf22",
   "metadata": {},
   "outputs": [
    {
     "name": "stdout",
     "output_type": "stream",
     "text": [
      "Requirement already satisfied: h5py in c:\\users\\deeks\\anaconda3\\lib\\site-packages (3.2.1)\n",
      "Requirement already satisfied: numpy>=1.19.0 in c:\\users\\deeks\\anaconda3\\lib\\site-packages (from h5py) (1.20.3)\n",
      "Note: you may need to restart the kernel to use updated packages.\n"
     ]
    }
   ],
   "source": [
    "pip install h5py"
   ]
  },
  {
   "cell_type": "code",
   "execution_count": 17,
   "id": "93a12cfa",
   "metadata": {},
   "outputs": [],
   "source": [
    "model.save_weights(\"mlmodel.h5\")"
   ]
  }
 ],
 "metadata": {
  "kernelspec": {
   "display_name": "Python 3 (ipykernel)",
   "language": "python",
   "name": "python3"
  },
  "language_info": {
   "codemirror_mode": {
    "name": "ipython",
    "version": 3
   },
   "file_extension": ".py",
   "mimetype": "text/x-python",
   "name": "python",
   "nbconvert_exporter": "python",
   "pygments_lexer": "ipython3",
   "version": "3.9.7"
  }
 },
 "nbformat": 4,
 "nbformat_minor": 5
}
